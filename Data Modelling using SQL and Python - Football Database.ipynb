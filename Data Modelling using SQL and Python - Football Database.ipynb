{
 "cells": [
  {
   "cell_type": "markdown",
   "id": "eb701957",
   "metadata": {},
   "source": [
    "# Installing and importing required libraries"
   ]
  },
  {
   "cell_type": "code",
   "execution_count": 1,
   "id": "26d145b7",
   "metadata": {},
   "outputs": [],
   "source": [
    "#!pip install psycopg2  "
   ]
  },
  {
   "cell_type": "code",
   "execution_count": 2,
   "id": "30248683",
   "metadata": {},
   "outputs": [],
   "source": [
    "# !pip install pandas"
   ]
  },
  {
   "cell_type": "code",
   "execution_count": 3,
   "id": "c70022d3",
   "metadata": {},
   "outputs": [],
   "source": [
    "import psycopg2 #Library to interact with postgreSQL\n",
    "import pandas as pd #To read and upload data from files"
   ]
  },
  {
   "cell_type": "markdown",
   "id": "788400d2",
   "metadata": {},
   "source": [
    "# Functions to create and connect to Database"
   ]
  },
  {
   "cell_type": "code",
   "execution_count": 4,
   "id": "207b7287",
   "metadata": {},
   "outputs": [],
   "source": [
    "def create_db(Name):\n",
    "    #Creating connection to default Database\n",
    "    conn = psycopg2.connect(\"host=localhost dbname=postgres user=postgres password=root\")\n",
    "    conn.set_session(autocommit=True)\n",
    "    cur = conn.cursor()\n",
    "    \n",
    "    #Create a new Database\n",
    "    cur.execute(f\"DROP DATABASE IF EXISTS {Name.lower()};\")\n",
    "    cur.execute(f\"CREATE DATABASE {Name.lower()};\") #creates name in lowercase\n",
    "    \n",
    "    #Close default Database connection object\n",
    "    conn.close()    "
   ]
  },
  {
   "cell_type": "code",
   "execution_count": 5,
   "id": "dbb37952",
   "metadata": {},
   "outputs": [],
   "source": [
    "def connect_db(Name):\n",
    "    #Create new connection object to new Database\n",
    "    s = f\"host=localhost dbname={Name.lower()} user=postgres password=root\" #using lower to make sure same case\n",
    "    conn = psycopg2.connect(s)\n",
    "    cur = conn.cursor()\n",
    "    \n",
    "    #Return new Database connection and cursor object\n",
    "    return cur, conn\n",
    "    "
   ]
  },
  {
   "cell_type": "markdown",
   "id": "4b956f16",
   "metadata": {},
   "source": [
    "# Reading data from Excel files"
   ]
  },
  {
   "cell_type": "code",
   "execution_count": 6,
   "id": "2aa6a902",
   "metadata": {},
   "outputs": [],
   "source": [
    "games = pd.read_excel(\"Football Database/games.xlsx\")\n",
    "leagues = pd.read_excel(\"Football Database/leagues.xlsx\")\n",
    "players = pd.read_excel(\"Football Database/players.xlsx\")\n",
    "shots = pd.read_excel(\"Football Database/shots.xlsx\")\n",
    "teams = pd.read_excel(\"Football Database/teams.xlsx\")\n",
    "teamstats = pd.read_excel(\"Football Database/teamstats.xlsx\")"
   ]
  },
  {
   "cell_type": "code",
   "execution_count": 7,
   "id": "0f3e8408",
   "metadata": {},
   "outputs": [
    {
     "data": {
      "text/html": [
       "<div>\n",
       "<style scoped>\n",
       "    .dataframe tbody tr th:only-of-type {\n",
       "        vertical-align: middle;\n",
       "    }\n",
       "\n",
       "    .dataframe tbody tr th {\n",
       "        vertical-align: top;\n",
       "    }\n",
       "\n",
       "    .dataframe thead th {\n",
       "        text-align: right;\n",
       "    }\n",
       "</style>\n",
       "<table border=\"1\" class=\"dataframe\">\n",
       "  <thead>\n",
       "    <tr style=\"text-align: right;\">\n",
       "      <th></th>\n",
       "      <th>leagueID</th>\n",
       "      <th>name</th>\n",
       "      <th>understatNotation</th>\n",
       "    </tr>\n",
       "  </thead>\n",
       "  <tbody>\n",
       "    <tr>\n",
       "      <th>0</th>\n",
       "      <td>1</td>\n",
       "      <td>Premier League</td>\n",
       "      <td>EPL</td>\n",
       "    </tr>\n",
       "    <tr>\n",
       "      <th>1</th>\n",
       "      <td>2</td>\n",
       "      <td>Serie A</td>\n",
       "      <td>Serie_A</td>\n",
       "    </tr>\n",
       "    <tr>\n",
       "      <th>2</th>\n",
       "      <td>3</td>\n",
       "      <td>Bundesliga</td>\n",
       "      <td>Bundesliga</td>\n",
       "    </tr>\n",
       "    <tr>\n",
       "      <th>3</th>\n",
       "      <td>4</td>\n",
       "      <td>La Liga</td>\n",
       "      <td>La_liga</td>\n",
       "    </tr>\n",
       "    <tr>\n",
       "      <th>4</th>\n",
       "      <td>5</td>\n",
       "      <td>Ligue 1</td>\n",
       "      <td>Ligue_1</td>\n",
       "    </tr>\n",
       "  </tbody>\n",
       "</table>\n",
       "</div>"
      ],
      "text/plain": [
       "   leagueID            name understatNotation\n",
       "0         1  Premier League               EPL\n",
       "1         2         Serie A           Serie_A\n",
       "2         3      Bundesliga        Bundesliga\n",
       "3         4         La Liga           La_liga\n",
       "4         5         Ligue 1           Ligue_1"
      ]
     },
     "execution_count": 7,
     "metadata": {},
     "output_type": "execute_result"
    }
   ],
   "source": [
    "leagues.head()"
   ]
  },
  {
   "cell_type": "code",
   "execution_count": 8,
   "id": "cc7a167c",
   "metadata": {},
   "outputs": [
    {
     "data": {
      "text/plain": [
       "leagueID              int64\n",
       "name                 object\n",
       "understatNotation    object\n",
       "dtype: object"
      ]
     },
     "execution_count": 8,
     "metadata": {},
     "output_type": "execute_result"
    }
   ],
   "source": [
    "leagues.dtypes"
   ]
  },
  {
   "cell_type": "code",
   "execution_count": 9,
   "id": "015f1150",
   "metadata": {},
   "outputs": [
    {
     "data": {
      "text/html": [
       "<div>\n",
       "<style scoped>\n",
       "    .dataframe tbody tr th:only-of-type {\n",
       "        vertical-align: middle;\n",
       "    }\n",
       "\n",
       "    .dataframe tbody tr th {\n",
       "        vertical-align: top;\n",
       "    }\n",
       "\n",
       "    .dataframe thead th {\n",
       "        text-align: right;\n",
       "    }\n",
       "</style>\n",
       "<table border=\"1\" class=\"dataframe\">\n",
       "  <thead>\n",
       "    <tr style=\"text-align: right;\">\n",
       "      <th></th>\n",
       "      <th>playerID</th>\n",
       "      <th>name</th>\n",
       "    </tr>\n",
       "  </thead>\n",
       "  <tbody>\n",
       "    <tr>\n",
       "      <th>0</th>\n",
       "      <td>1</td>\n",
       "      <td>Christian Mathenia</td>\n",
       "    </tr>\n",
       "    <tr>\n",
       "      <th>1</th>\n",
       "      <td>2</td>\n",
       "      <td>György Garics</td>\n",
       "    </tr>\n",
       "    <tr>\n",
       "      <th>2</th>\n",
       "      <td>3</td>\n",
       "      <td>Luca Caldirola</td>\n",
       "    </tr>\n",
       "    <tr>\n",
       "      <th>3</th>\n",
       "      <td>4</td>\n",
       "      <td>Aytac Sulu</td>\n",
       "    </tr>\n",
       "    <tr>\n",
       "      <th>4</th>\n",
       "      <td>5</td>\n",
       "      <td>Fabian Holland</td>\n",
       "    </tr>\n",
       "  </tbody>\n",
       "</table>\n",
       "</div>"
      ],
      "text/plain": [
       "   playerID                name\n",
       "0         1  Christian Mathenia\n",
       "1         2       György Garics\n",
       "2         3      Luca Caldirola\n",
       "3         4          Aytac Sulu\n",
       "4         5      Fabian Holland"
      ]
     },
     "execution_count": 9,
     "metadata": {},
     "output_type": "execute_result"
    }
   ],
   "source": [
    "players.head()"
   ]
  },
  {
   "cell_type": "code",
   "execution_count": 10,
   "id": "c4309a2a",
   "metadata": {},
   "outputs": [
    {
     "data": {
      "text/plain": [
       "playerID     int64\n",
       "name        object\n",
       "dtype: object"
      ]
     },
     "execution_count": 10,
     "metadata": {},
     "output_type": "execute_result"
    }
   ],
   "source": [
    "players.dtypes"
   ]
  },
  {
   "cell_type": "code",
   "execution_count": 11,
   "id": "59e7ff83",
   "metadata": {},
   "outputs": [
    {
     "data": {
      "text/html": [
       "<div>\n",
       "<style scoped>\n",
       "    .dataframe tbody tr th:only-of-type {\n",
       "        vertical-align: middle;\n",
       "    }\n",
       "\n",
       "    .dataframe tbody tr th {\n",
       "        vertical-align: top;\n",
       "    }\n",
       "\n",
       "    .dataframe thead th {\n",
       "        text-align: right;\n",
       "    }\n",
       "</style>\n",
       "<table border=\"1\" class=\"dataframe\">\n",
       "  <thead>\n",
       "    <tr style=\"text-align: right;\">\n",
       "      <th></th>\n",
       "      <th>gameID</th>\n",
       "      <th>leagueID</th>\n",
       "      <th>season</th>\n",
       "      <th>date</th>\n",
       "      <th>homeTeamID</th>\n",
       "      <th>awayTeamID</th>\n",
       "      <th>homeGoals</th>\n",
       "      <th>awayGoals</th>\n",
       "      <th>homeProbability</th>\n",
       "      <th>drawProbability</th>\n",
       "      <th>...</th>\n",
       "      <th>PSA</th>\n",
       "      <th>WHH</th>\n",
       "      <th>WHD</th>\n",
       "      <th>WHA</th>\n",
       "      <th>VCH</th>\n",
       "      <th>VCD</th>\n",
       "      <th>VCA</th>\n",
       "      <th>PSCH</th>\n",
       "      <th>PSCD</th>\n",
       "      <th>PSCA</th>\n",
       "    </tr>\n",
       "  </thead>\n",
       "  <tbody>\n",
       "    <tr>\n",
       "      <th>0</th>\n",
       "      <td>81</td>\n",
       "      <td>1</td>\n",
       "      <td>2015</td>\n",
       "      <td>2015-08-08 15:45:00</td>\n",
       "      <td>89</td>\n",
       "      <td>82</td>\n",
       "      <td>1</td>\n",
       "      <td>0</td>\n",
       "      <td>0.2843</td>\n",
       "      <td>0.3999</td>\n",
       "      <td>...</td>\n",
       "      <td>5.90</td>\n",
       "      <td>1.62</td>\n",
       "      <td>3.6</td>\n",
       "      <td>6.00</td>\n",
       "      <td>1.67</td>\n",
       "      <td>4.00</td>\n",
       "      <td>5.75</td>\n",
       "      <td>1.64</td>\n",
       "      <td>4.07</td>\n",
       "      <td>6.04</td>\n",
       "    </tr>\n",
       "    <tr>\n",
       "      <th>1</th>\n",
       "      <td>82</td>\n",
       "      <td>1</td>\n",
       "      <td>2015</td>\n",
       "      <td>2015-08-08 18:00:00</td>\n",
       "      <td>73</td>\n",
       "      <td>71</td>\n",
       "      <td>0</td>\n",
       "      <td>1</td>\n",
       "      <td>0.3574</td>\n",
       "      <td>0.3500</td>\n",
       "      <td>...</td>\n",
       "      <td>4.27</td>\n",
       "      <td>1.91</td>\n",
       "      <td>3.5</td>\n",
       "      <td>4.00</td>\n",
       "      <td>2.00</td>\n",
       "      <td>3.50</td>\n",
       "      <td>4.20</td>\n",
       "      <td>1.82</td>\n",
       "      <td>3.88</td>\n",
       "      <td>4.70</td>\n",
       "    </tr>\n",
       "    <tr>\n",
       "      <th>2</th>\n",
       "      <td>83</td>\n",
       "      <td>1</td>\n",
       "      <td>2015</td>\n",
       "      <td>2015-08-08 18:00:00</td>\n",
       "      <td>72</td>\n",
       "      <td>90</td>\n",
       "      <td>2</td>\n",
       "      <td>2</td>\n",
       "      <td>0.2988</td>\n",
       "      <td>0.4337</td>\n",
       "      <td>...</td>\n",
       "      <td>5.62</td>\n",
       "      <td>1.73</td>\n",
       "      <td>3.5</td>\n",
       "      <td>5.00</td>\n",
       "      <td>1.73</td>\n",
       "      <td>3.90</td>\n",
       "      <td>5.40</td>\n",
       "      <td>1.75</td>\n",
       "      <td>3.76</td>\n",
       "      <td>5.44</td>\n",
       "    </tr>\n",
       "    <tr>\n",
       "      <th>3</th>\n",
       "      <td>84</td>\n",
       "      <td>1</td>\n",
       "      <td>2015</td>\n",
       "      <td>2015-08-08 18:00:00</td>\n",
       "      <td>75</td>\n",
       "      <td>77</td>\n",
       "      <td>4</td>\n",
       "      <td>2</td>\n",
       "      <td>0.6422</td>\n",
       "      <td>0.2057</td>\n",
       "      <td>...</td>\n",
       "      <td>4.34</td>\n",
       "      <td>2.00</td>\n",
       "      <td>3.1</td>\n",
       "      <td>2.70</td>\n",
       "      <td>2.00</td>\n",
       "      <td>3.40</td>\n",
       "      <td>4.33</td>\n",
       "      <td>1.79</td>\n",
       "      <td>3.74</td>\n",
       "      <td>5.10</td>\n",
       "    </tr>\n",
       "    <tr>\n",
       "      <th>4</th>\n",
       "      <td>85</td>\n",
       "      <td>1</td>\n",
       "      <td>2015</td>\n",
       "      <td>2015-08-08 18:00:00</td>\n",
       "      <td>79</td>\n",
       "      <td>78</td>\n",
       "      <td>1</td>\n",
       "      <td>3</td>\n",
       "      <td>0.1461</td>\n",
       "      <td>0.2159</td>\n",
       "      <td>...</td>\n",
       "      <td>3.08</td>\n",
       "      <td>2.60</td>\n",
       "      <td>3.1</td>\n",
       "      <td>2.88</td>\n",
       "      <td>2.60</td>\n",
       "      <td>3.25</td>\n",
       "      <td>3.00</td>\n",
       "      <td>2.46</td>\n",
       "      <td>3.39</td>\n",
       "      <td>3.14</td>\n",
       "    </tr>\n",
       "  </tbody>\n",
       "</table>\n",
       "<p>5 rows × 34 columns</p>\n",
       "</div>"
      ],
      "text/plain": [
       "   gameID  leagueID  season                date  homeTeamID  awayTeamID  \\\n",
       "0      81         1    2015 2015-08-08 15:45:00          89          82   \n",
       "1      82         1    2015 2015-08-08 18:00:00          73          71   \n",
       "2      83         1    2015 2015-08-08 18:00:00          72          90   \n",
       "3      84         1    2015 2015-08-08 18:00:00          75          77   \n",
       "4      85         1    2015 2015-08-08 18:00:00          79          78   \n",
       "\n",
       "   homeGoals  awayGoals  homeProbability  drawProbability  ...   PSA   WHH  \\\n",
       "0          1          0           0.2843           0.3999  ...  5.90  1.62   \n",
       "1          0          1           0.3574           0.3500  ...  4.27  1.91   \n",
       "2          2          2           0.2988           0.4337  ...  5.62  1.73   \n",
       "3          4          2           0.6422           0.2057  ...  4.34  2.00   \n",
       "4          1          3           0.1461           0.2159  ...  3.08  2.60   \n",
       "\n",
       "   WHD   WHA   VCH   VCD   VCA  PSCH  PSCD  PSCA  \n",
       "0  3.6  6.00  1.67  4.00  5.75  1.64  4.07  6.04  \n",
       "1  3.5  4.00  2.00  3.50  4.20  1.82  3.88  4.70  \n",
       "2  3.5  5.00  1.73  3.90  5.40  1.75  3.76  5.44  \n",
       "3  3.1  2.70  2.00  3.40  4.33  1.79  3.74  5.10  \n",
       "4  3.1  2.88  2.60  3.25  3.00  2.46  3.39  3.14  \n",
       "\n",
       "[5 rows x 34 columns]"
      ]
     },
     "execution_count": 11,
     "metadata": {},
     "output_type": "execute_result"
    }
   ],
   "source": [
    "games.head()"
   ]
  },
  {
   "cell_type": "code",
   "execution_count": 12,
   "id": "ef26fa7b",
   "metadata": {},
   "outputs": [
    {
     "data": {
      "text/plain": [
       "Index(['gameID', 'leagueID', 'season', 'date', 'homeTeamID', 'awayTeamID',\n",
       "       'homeGoals', 'awayGoals', 'homeProbability', 'drawProbability',\n",
       "       'awayProbability', 'homeGoalsHalfTime', 'awayGoalsHalfTime', 'B365H',\n",
       "       'B365D', 'B365A', 'BWH', 'BWD', 'BWA', 'IWH', 'IWD', 'IWA', 'PSH',\n",
       "       'PSD', 'PSA', 'WHH', 'WHD', 'WHA', 'VCH', 'VCD', 'VCA', 'PSCH', 'PSCD',\n",
       "       'PSCA'],\n",
       "      dtype='object')"
      ]
     },
     "execution_count": 12,
     "metadata": {},
     "output_type": "execute_result"
    }
   ],
   "source": [
    "games.columns"
   ]
  },
  {
   "cell_type": "markdown",
   "id": "be2f62a0",
   "metadata": {},
   "source": [
    "# Transform the data as required"
   ]
  },
  {
   "cell_type": "code",
   "execution_count": 13,
   "id": "bb41b3ab",
   "metadata": {},
   "outputs": [
    {
     "data": {
      "text/plain": [
       "Index(['gameID', 'leagueID', 'season', 'date', 'homeTeamID', 'awayTeamID',\n",
       "       'homeGoals', 'awayGoals', 'homeProbability', 'drawProbability',\n",
       "       'awayProbability'],\n",
       "      dtype='object')"
      ]
     },
     "execution_count": 13,
     "metadata": {},
     "output_type": "execute_result"
    }
   ],
   "source": [
    "#Keeping only the required columns from the dataframes\n",
    "games = games.iloc[:, :11]\n",
    "games.columns"
   ]
  },
  {
   "cell_type": "code",
   "execution_count": 14,
   "id": "67db4d2f",
   "metadata": {},
   "outputs": [
    {
     "data": {
      "text/plain": [
       "Index(['gameID', 'leagueID', 'season', 'date', 'homeTeamID', 'awayTeamID',\n",
       "       'homeProbability', 'drawProbability', 'awayProbability'],\n",
       "      dtype='object')"
      ]
     },
     "execution_count": 14,
     "metadata": {},
     "output_type": "execute_result"
    }
   ],
   "source": [
    "games = games.drop(['homeGoals', 'awayGoals'], axis=1)\n",
    "games.columns"
   ]
  },
  {
   "cell_type": "code",
   "execution_count": 15,
   "id": "e1757da5",
   "metadata": {},
   "outputs": [
    {
     "data": {
      "text/plain": [
       "gameID                      int64\n",
       "leagueID                    int64\n",
       "season                      int64\n",
       "date               datetime64[ns]\n",
       "homeTeamID                  int64\n",
       "awayTeamID                  int64\n",
       "homeProbability           float64\n",
       "drawProbability           float64\n",
       "awayProbability           float64\n",
       "dtype: object"
      ]
     },
     "execution_count": 15,
     "metadata": {},
     "output_type": "execute_result"
    }
   ],
   "source": [
    "games.dtypes"
   ]
  },
  {
   "cell_type": "code",
   "execution_count": 16,
   "id": "2457f39a",
   "metadata": {},
   "outputs": [
    {
     "data": {
      "text/html": [
       "<div>\n",
       "<style scoped>\n",
       "    .dataframe tbody tr th:only-of-type {\n",
       "        vertical-align: middle;\n",
       "    }\n",
       "\n",
       "    .dataframe tbody tr th {\n",
       "        vertical-align: top;\n",
       "    }\n",
       "\n",
       "    .dataframe thead th {\n",
       "        text-align: right;\n",
       "    }\n",
       "</style>\n",
       "<table border=\"1\" class=\"dataframe\">\n",
       "  <thead>\n",
       "    <tr style=\"text-align: right;\">\n",
       "      <th></th>\n",
       "      <th>gameID</th>\n",
       "      <th>leagueID</th>\n",
       "      <th>season</th>\n",
       "      <th>date</th>\n",
       "      <th>homeTeamID</th>\n",
       "      <th>awayTeamID</th>\n",
       "      <th>homeProbability</th>\n",
       "      <th>drawProbability</th>\n",
       "      <th>awayProbability</th>\n",
       "    </tr>\n",
       "  </thead>\n",
       "  <tbody>\n",
       "    <tr>\n",
       "      <th>0</th>\n",
       "      <td>81</td>\n",
       "      <td>1</td>\n",
       "      <td>2015</td>\n",
       "      <td>2015-08-08 15:45:00</td>\n",
       "      <td>89</td>\n",
       "      <td>82</td>\n",
       "      <td>0.2843</td>\n",
       "      <td>0.3999</td>\n",
       "      <td>0.3158</td>\n",
       "    </tr>\n",
       "    <tr>\n",
       "      <th>1</th>\n",
       "      <td>82</td>\n",
       "      <td>1</td>\n",
       "      <td>2015</td>\n",
       "      <td>2015-08-08 18:00:00</td>\n",
       "      <td>73</td>\n",
       "      <td>71</td>\n",
       "      <td>0.3574</td>\n",
       "      <td>0.3500</td>\n",
       "      <td>0.2926</td>\n",
       "    </tr>\n",
       "    <tr>\n",
       "      <th>2</th>\n",
       "      <td>83</td>\n",
       "      <td>1</td>\n",
       "      <td>2015</td>\n",
       "      <td>2015-08-08 18:00:00</td>\n",
       "      <td>72</td>\n",
       "      <td>90</td>\n",
       "      <td>0.2988</td>\n",
       "      <td>0.4337</td>\n",
       "      <td>0.2675</td>\n",
       "    </tr>\n",
       "    <tr>\n",
       "      <th>3</th>\n",
       "      <td>84</td>\n",
       "      <td>1</td>\n",
       "      <td>2015</td>\n",
       "      <td>2015-08-08 18:00:00</td>\n",
       "      <td>75</td>\n",
       "      <td>77</td>\n",
       "      <td>0.6422</td>\n",
       "      <td>0.2057</td>\n",
       "      <td>0.1521</td>\n",
       "    </tr>\n",
       "    <tr>\n",
       "      <th>4</th>\n",
       "      <td>85</td>\n",
       "      <td>1</td>\n",
       "      <td>2015</td>\n",
       "      <td>2015-08-08 18:00:00</td>\n",
       "      <td>79</td>\n",
       "      <td>78</td>\n",
       "      <td>0.1461</td>\n",
       "      <td>0.2159</td>\n",
       "      <td>0.6380</td>\n",
       "    </tr>\n",
       "  </tbody>\n",
       "</table>\n",
       "</div>"
      ],
      "text/plain": [
       "   gameID  leagueID  season                date  homeTeamID  awayTeamID  \\\n",
       "0      81         1    2015 2015-08-08 15:45:00          89          82   \n",
       "1      82         1    2015 2015-08-08 18:00:00          73          71   \n",
       "2      83         1    2015 2015-08-08 18:00:00          72          90   \n",
       "3      84         1    2015 2015-08-08 18:00:00          75          77   \n",
       "4      85         1    2015 2015-08-08 18:00:00          79          78   \n",
       "\n",
       "   homeProbability  drawProbability  awayProbability  \n",
       "0           0.2843           0.3999           0.3158  \n",
       "1           0.3574           0.3500           0.2926  \n",
       "2           0.2988           0.4337           0.2675  \n",
       "3           0.6422           0.2057           0.1521  \n",
       "4           0.1461           0.2159           0.6380  "
      ]
     },
     "execution_count": 16,
     "metadata": {},
     "output_type": "execute_result"
    }
   ],
   "source": [
    "games.head()"
   ]
  },
  {
   "cell_type": "code",
   "execution_count": 18,
   "id": "f81d896e",
   "metadata": {},
   "outputs": [
    {
     "data": {
      "text/html": [
       "<div>\n",
       "<style scoped>\n",
       "    .dataframe tbody tr th:only-of-type {\n",
       "        vertical-align: middle;\n",
       "    }\n",
       "\n",
       "    .dataframe tbody tr th {\n",
       "        vertical-align: top;\n",
       "    }\n",
       "\n",
       "    .dataframe thead th {\n",
       "        text-align: right;\n",
       "    }\n",
       "</style>\n",
       "<table border=\"1\" class=\"dataframe\">\n",
       "  <thead>\n",
       "    <tr style=\"text-align: right;\">\n",
       "      <th></th>\n",
       "      <th>teamID</th>\n",
       "      <th>name</th>\n",
       "    </tr>\n",
       "  </thead>\n",
       "  <tbody>\n",
       "    <tr>\n",
       "      <th>0</th>\n",
       "      <td>71</td>\n",
       "      <td>Aston Villa</td>\n",
       "    </tr>\n",
       "    <tr>\n",
       "      <th>1</th>\n",
       "      <td>72</td>\n",
       "      <td>Everton</td>\n",
       "    </tr>\n",
       "    <tr>\n",
       "      <th>2</th>\n",
       "      <td>73</td>\n",
       "      <td>Bournemouth</td>\n",
       "    </tr>\n",
       "    <tr>\n",
       "      <th>3</th>\n",
       "      <td>74</td>\n",
       "      <td>Southampton</td>\n",
       "    </tr>\n",
       "    <tr>\n",
       "      <th>4</th>\n",
       "      <td>75</td>\n",
       "      <td>Leicester</td>\n",
       "    </tr>\n",
       "  </tbody>\n",
       "</table>\n",
       "</div>"
      ],
      "text/plain": [
       "   teamID         name\n",
       "0      71  Aston Villa\n",
       "1      72      Everton\n",
       "2      73  Bournemouth\n",
       "3      74  Southampton\n",
       "4      75    Leicester"
      ]
     },
     "execution_count": 18,
     "metadata": {},
     "output_type": "execute_result"
    }
   ],
   "source": [
    "teams.head()"
   ]
  },
  {
   "cell_type": "code",
   "execution_count": 19,
   "id": "77194992",
   "metadata": {},
   "outputs": [
    {
     "data": {
      "text/html": [
       "<div>\n",
       "<style scoped>\n",
       "    .dataframe tbody tr th:only-of-type {\n",
       "        vertical-align: middle;\n",
       "    }\n",
       "\n",
       "    .dataframe tbody tr th {\n",
       "        vertical-align: top;\n",
       "    }\n",
       "\n",
       "    .dataframe thead th {\n",
       "        text-align: right;\n",
       "    }\n",
       "</style>\n",
       "<table border=\"1\" class=\"dataframe\">\n",
       "  <thead>\n",
       "    <tr style=\"text-align: right;\">\n",
       "      <th></th>\n",
       "      <th>gameID</th>\n",
       "      <th>shooterID</th>\n",
       "      <th>assisterID</th>\n",
       "      <th>minute</th>\n",
       "      <th>situation</th>\n",
       "      <th>lastAction</th>\n",
       "      <th>shotType</th>\n",
       "      <th>shotResult</th>\n",
       "      <th>xGoal</th>\n",
       "      <th>positionX</th>\n",
       "      <th>positionY</th>\n",
       "    </tr>\n",
       "  </thead>\n",
       "  <tbody>\n",
       "    <tr>\n",
       "      <th>0</th>\n",
       "      <td>81</td>\n",
       "      <td>554</td>\n",
       "      <td>NaN</td>\n",
       "      <td>27</td>\n",
       "      <td>DirectFreekick</td>\n",
       "      <td>Standard</td>\n",
       "      <td>LeftFoot</td>\n",
       "      <td>BlockedShot</td>\n",
       "      <td>0.104347</td>\n",
       "      <td>0.794</td>\n",
       "      <td>0.421</td>\n",
       "    </tr>\n",
       "    <tr>\n",
       "      <th>1</th>\n",
       "      <td>81</td>\n",
       "      <td>555</td>\n",
       "      <td>631.0</td>\n",
       "      <td>27</td>\n",
       "      <td>SetPiece</td>\n",
       "      <td>Pass</td>\n",
       "      <td>RightFoot</td>\n",
       "      <td>BlockedShot</td>\n",
       "      <td>0.064342</td>\n",
       "      <td>0.860</td>\n",
       "      <td>0.627</td>\n",
       "    </tr>\n",
       "    <tr>\n",
       "      <th>2</th>\n",
       "      <td>81</td>\n",
       "      <td>554</td>\n",
       "      <td>629.0</td>\n",
       "      <td>35</td>\n",
       "      <td>OpenPlay</td>\n",
       "      <td>Pass</td>\n",
       "      <td>LeftFoot</td>\n",
       "      <td>BlockedShot</td>\n",
       "      <td>0.057157</td>\n",
       "      <td>0.843</td>\n",
       "      <td>0.333</td>\n",
       "    </tr>\n",
       "    <tr>\n",
       "      <th>3</th>\n",
       "      <td>81</td>\n",
       "      <td>554</td>\n",
       "      <td>NaN</td>\n",
       "      <td>35</td>\n",
       "      <td>OpenPlay</td>\n",
       "      <td>Tackle</td>\n",
       "      <td>LeftFoot</td>\n",
       "      <td>MissedShots</td>\n",
       "      <td>0.092141</td>\n",
       "      <td>0.848</td>\n",
       "      <td>0.533</td>\n",
       "    </tr>\n",
       "    <tr>\n",
       "      <th>4</th>\n",
       "      <td>81</td>\n",
       "      <td>555</td>\n",
       "      <td>654.0</td>\n",
       "      <td>40</td>\n",
       "      <td>OpenPlay</td>\n",
       "      <td>BallRecovery</td>\n",
       "      <td>RightFoot</td>\n",
       "      <td>BlockedShot</td>\n",
       "      <td>0.035742</td>\n",
       "      <td>0.812</td>\n",
       "      <td>0.707</td>\n",
       "    </tr>\n",
       "  </tbody>\n",
       "</table>\n",
       "</div>"
      ],
      "text/plain": [
       "   gameID  shooterID  assisterID  minute       situation    lastAction  \\\n",
       "0      81        554         NaN      27  DirectFreekick      Standard   \n",
       "1      81        555       631.0      27        SetPiece          Pass   \n",
       "2      81        554       629.0      35        OpenPlay          Pass   \n",
       "3      81        554         NaN      35        OpenPlay        Tackle   \n",
       "4      81        555       654.0      40        OpenPlay  BallRecovery   \n",
       "\n",
       "    shotType   shotResult     xGoal  positionX  positionY  \n",
       "0   LeftFoot  BlockedShot  0.104347      0.794      0.421  \n",
       "1  RightFoot  BlockedShot  0.064342      0.860      0.627  \n",
       "2   LeftFoot  BlockedShot  0.057157      0.843      0.333  \n",
       "3   LeftFoot  MissedShots  0.092141      0.848      0.533  \n",
       "4  RightFoot  BlockedShot  0.035742      0.812      0.707  "
      ]
     },
     "execution_count": 19,
     "metadata": {},
     "output_type": "execute_result"
    }
   ],
   "source": [
    "shots.head()"
   ]
  },
  {
   "cell_type": "code",
   "execution_count": 20,
   "id": "a85e0b79",
   "metadata": {},
   "outputs": [
    {
     "data": {
      "text/plain": [
       "Index(['gameID', 'shooterID', 'assisterID', 'minute', 'situation',\n",
       "       'lastAction', 'shotType', 'shotResult', 'xGoal', 'positionX',\n",
       "       'positionY'],\n",
       "      dtype='object')"
      ]
     },
     "execution_count": 20,
     "metadata": {},
     "output_type": "execute_result"
    }
   ],
   "source": [
    "shots.columns"
   ]
  },
  {
   "cell_type": "code",
   "execution_count": 21,
   "id": "ad6409b3",
   "metadata": {},
   "outputs": [],
   "source": [
    "#Taking required columns only\n",
    "shots = shots[['gameID', 'shooterID', 'assisterID', 'minute', 'situation', 'shotResult', 'shotType']]"
   ]
  },
  {
   "cell_type": "code",
   "execution_count": 22,
   "id": "2b262aa3",
   "metadata": {},
   "outputs": [
    {
     "data": {
      "text/html": [
       "<div>\n",
       "<style scoped>\n",
       "    .dataframe tbody tr th:only-of-type {\n",
       "        vertical-align: middle;\n",
       "    }\n",
       "\n",
       "    .dataframe tbody tr th {\n",
       "        vertical-align: top;\n",
       "    }\n",
       "\n",
       "    .dataframe thead th {\n",
       "        text-align: right;\n",
       "    }\n",
       "</style>\n",
       "<table border=\"1\" class=\"dataframe\">\n",
       "  <thead>\n",
       "    <tr style=\"text-align: right;\">\n",
       "      <th></th>\n",
       "      <th>gameID</th>\n",
       "      <th>shooterID</th>\n",
       "      <th>assisterID</th>\n",
       "      <th>minute</th>\n",
       "      <th>situation</th>\n",
       "      <th>shotResult</th>\n",
       "      <th>shotType</th>\n",
       "    </tr>\n",
       "  </thead>\n",
       "  <tbody>\n",
       "    <tr>\n",
       "      <th>0</th>\n",
       "      <td>81</td>\n",
       "      <td>554</td>\n",
       "      <td>NaN</td>\n",
       "      <td>27</td>\n",
       "      <td>DirectFreekick</td>\n",
       "      <td>BlockedShot</td>\n",
       "      <td>LeftFoot</td>\n",
       "    </tr>\n",
       "    <tr>\n",
       "      <th>1</th>\n",
       "      <td>81</td>\n",
       "      <td>555</td>\n",
       "      <td>631.0</td>\n",
       "      <td>27</td>\n",
       "      <td>SetPiece</td>\n",
       "      <td>BlockedShot</td>\n",
       "      <td>RightFoot</td>\n",
       "    </tr>\n",
       "    <tr>\n",
       "      <th>2</th>\n",
       "      <td>81</td>\n",
       "      <td>554</td>\n",
       "      <td>629.0</td>\n",
       "      <td>35</td>\n",
       "      <td>OpenPlay</td>\n",
       "      <td>BlockedShot</td>\n",
       "      <td>LeftFoot</td>\n",
       "    </tr>\n",
       "    <tr>\n",
       "      <th>3</th>\n",
       "      <td>81</td>\n",
       "      <td>554</td>\n",
       "      <td>NaN</td>\n",
       "      <td>35</td>\n",
       "      <td>OpenPlay</td>\n",
       "      <td>MissedShots</td>\n",
       "      <td>LeftFoot</td>\n",
       "    </tr>\n",
       "    <tr>\n",
       "      <th>4</th>\n",
       "      <td>81</td>\n",
       "      <td>555</td>\n",
       "      <td>654.0</td>\n",
       "      <td>40</td>\n",
       "      <td>OpenPlay</td>\n",
       "      <td>BlockedShot</td>\n",
       "      <td>RightFoot</td>\n",
       "    </tr>\n",
       "  </tbody>\n",
       "</table>\n",
       "</div>"
      ],
      "text/plain": [
       "   gameID  shooterID  assisterID  minute       situation   shotResult  \\\n",
       "0      81        554         NaN      27  DirectFreekick  BlockedShot   \n",
       "1      81        555       631.0      27        SetPiece  BlockedShot   \n",
       "2      81        554       629.0      35        OpenPlay  BlockedShot   \n",
       "3      81        554         NaN      35        OpenPlay  MissedShots   \n",
       "4      81        555       654.0      40        OpenPlay  BlockedShot   \n",
       "\n",
       "    shotType  \n",
       "0   LeftFoot  \n",
       "1  RightFoot  \n",
       "2   LeftFoot  \n",
       "3   LeftFoot  \n",
       "4  RightFoot  "
      ]
     },
     "execution_count": 22,
     "metadata": {},
     "output_type": "execute_result"
    }
   ],
   "source": [
    "shots.head()"
   ]
  },
  {
   "cell_type": "code",
   "execution_count": 23,
   "id": "d713fadd",
   "metadata": {},
   "outputs": [
    {
     "data": {
      "text/html": [
       "<div>\n",
       "<style scoped>\n",
       "    .dataframe tbody tr th:only-of-type {\n",
       "        vertical-align: middle;\n",
       "    }\n",
       "\n",
       "    .dataframe tbody tr th {\n",
       "        vertical-align: top;\n",
       "    }\n",
       "\n",
       "    .dataframe thead th {\n",
       "        text-align: right;\n",
       "    }\n",
       "</style>\n",
       "<table border=\"1\" class=\"dataframe\">\n",
       "  <thead>\n",
       "    <tr style=\"text-align: right;\">\n",
       "      <th></th>\n",
       "      <th>gameID</th>\n",
       "      <th>teamID</th>\n",
       "      <th>season</th>\n",
       "      <th>date</th>\n",
       "      <th>location</th>\n",
       "      <th>goals</th>\n",
       "      <th>xGoals</th>\n",
       "      <th>shots</th>\n",
       "      <th>shotsOnTarget</th>\n",
       "      <th>deep</th>\n",
       "      <th>ppda</th>\n",
       "      <th>fouls</th>\n",
       "      <th>corners</th>\n",
       "      <th>yellowCards</th>\n",
       "      <th>redCards</th>\n",
       "      <th>result</th>\n",
       "    </tr>\n",
       "  </thead>\n",
       "  <tbody>\n",
       "    <tr>\n",
       "      <th>0</th>\n",
       "      <td>81</td>\n",
       "      <td>89</td>\n",
       "      <td>2015</td>\n",
       "      <td>2015-08-08 15:45:00</td>\n",
       "      <td>h</td>\n",
       "      <td>1</td>\n",
       "      <td>0.627539</td>\n",
       "      <td>9</td>\n",
       "      <td>1</td>\n",
       "      <td>4</td>\n",
       "      <td>13.8261</td>\n",
       "      <td>12</td>\n",
       "      <td>1</td>\n",
       "      <td>2.0</td>\n",
       "      <td>0</td>\n",
       "      <td>W</td>\n",
       "    </tr>\n",
       "    <tr>\n",
       "      <th>1</th>\n",
       "      <td>81</td>\n",
       "      <td>82</td>\n",
       "      <td>2015</td>\n",
       "      <td>2015-08-08 15:45:00</td>\n",
       "      <td>a</td>\n",
       "      <td>0</td>\n",
       "      <td>0.674600</td>\n",
       "      <td>9</td>\n",
       "      <td>4</td>\n",
       "      <td>10</td>\n",
       "      <td>8.2188</td>\n",
       "      <td>12</td>\n",
       "      <td>2</td>\n",
       "      <td>3.0</td>\n",
       "      <td>0</td>\n",
       "      <td>L</td>\n",
       "    </tr>\n",
       "    <tr>\n",
       "      <th>2</th>\n",
       "      <td>82</td>\n",
       "      <td>73</td>\n",
       "      <td>2015</td>\n",
       "      <td>2015-08-08 18:00:00</td>\n",
       "      <td>h</td>\n",
       "      <td>0</td>\n",
       "      <td>0.876106</td>\n",
       "      <td>11</td>\n",
       "      <td>2</td>\n",
       "      <td>11</td>\n",
       "      <td>6.9000</td>\n",
       "      <td>13</td>\n",
       "      <td>6</td>\n",
       "      <td>3.0</td>\n",
       "      <td>0</td>\n",
       "      <td>L</td>\n",
       "    </tr>\n",
       "    <tr>\n",
       "      <th>3</th>\n",
       "      <td>82</td>\n",
       "      <td>71</td>\n",
       "      <td>2015</td>\n",
       "      <td>2015-08-08 18:00:00</td>\n",
       "      <td>a</td>\n",
       "      <td>1</td>\n",
       "      <td>0.782253</td>\n",
       "      <td>7</td>\n",
       "      <td>3</td>\n",
       "      <td>2</td>\n",
       "      <td>11.8462</td>\n",
       "      <td>13</td>\n",
       "      <td>3</td>\n",
       "      <td>4.0</td>\n",
       "      <td>0</td>\n",
       "      <td>W</td>\n",
       "    </tr>\n",
       "    <tr>\n",
       "      <th>4</th>\n",
       "      <td>83</td>\n",
       "      <td>72</td>\n",
       "      <td>2015</td>\n",
       "      <td>2015-08-08 18:00:00</td>\n",
       "      <td>h</td>\n",
       "      <td>2</td>\n",
       "      <td>0.604226</td>\n",
       "      <td>10</td>\n",
       "      <td>5</td>\n",
       "      <td>5</td>\n",
       "      <td>6.6500</td>\n",
       "      <td>7</td>\n",
       "      <td>8</td>\n",
       "      <td>1.0</td>\n",
       "      <td>0</td>\n",
       "      <td>D</td>\n",
       "    </tr>\n",
       "  </tbody>\n",
       "</table>\n",
       "</div>"
      ],
      "text/plain": [
       "   gameID  teamID  season                date location  goals    xGoals  \\\n",
       "0      81      89    2015 2015-08-08 15:45:00        h      1  0.627539   \n",
       "1      81      82    2015 2015-08-08 15:45:00        a      0  0.674600   \n",
       "2      82      73    2015 2015-08-08 18:00:00        h      0  0.876106   \n",
       "3      82      71    2015 2015-08-08 18:00:00        a      1  0.782253   \n",
       "4      83      72    2015 2015-08-08 18:00:00        h      2  0.604226   \n",
       "\n",
       "   shots  shotsOnTarget  deep     ppda  fouls  corners  yellowCards  redCards  \\\n",
       "0      9              1     4  13.8261     12        1          2.0         0   \n",
       "1      9              4    10   8.2188     12        2          3.0         0   \n",
       "2     11              2    11   6.9000     13        6          3.0         0   \n",
       "3      7              3     2  11.8462     13        3          4.0         0   \n",
       "4     10              5     5   6.6500      7        8          1.0         0   \n",
       "\n",
       "  result  \n",
       "0      W  \n",
       "1      L  \n",
       "2      L  \n",
       "3      W  \n",
       "4      D  "
      ]
     },
     "execution_count": 23,
     "metadata": {},
     "output_type": "execute_result"
    }
   ],
   "source": [
    "teamstats.head()"
   ]
  },
  {
   "cell_type": "code",
   "execution_count": 24,
   "id": "84502e8e",
   "metadata": {},
   "outputs": [
    {
     "data": {
      "text/plain": [
       "Index(['gameID', 'teamID', 'season', 'date', 'location', 'goals', 'xGoals',\n",
       "       'shots', 'shotsOnTarget', 'deep', 'ppda', 'fouls', 'corners',\n",
       "       'yellowCards', 'redCards', 'result'],\n",
       "      dtype='object')"
      ]
     },
     "execution_count": 24,
     "metadata": {},
     "output_type": "execute_result"
    }
   ],
   "source": [
    " teamstats.columns"
   ]
  },
  {
   "cell_type": "code",
   "execution_count": 25,
   "id": "74b840d9",
   "metadata": {},
   "outputs": [],
   "source": [
    "teamstats = teamstats[['gameID', 'teamID', 'season', 'goals',\n",
    "       'shots', 'shotsOnTarget', 'fouls',\n",
    "       'yellowCards', 'redCards', 'result']]"
   ]
  },
  {
   "cell_type": "code",
   "execution_count": 26,
   "id": "aca1d77a",
   "metadata": {},
   "outputs": [
    {
     "data": {
      "text/html": [
       "<div>\n",
       "<style scoped>\n",
       "    .dataframe tbody tr th:only-of-type {\n",
       "        vertical-align: middle;\n",
       "    }\n",
       "\n",
       "    .dataframe tbody tr th {\n",
       "        vertical-align: top;\n",
       "    }\n",
       "\n",
       "    .dataframe thead th {\n",
       "        text-align: right;\n",
       "    }\n",
       "</style>\n",
       "<table border=\"1\" class=\"dataframe\">\n",
       "  <thead>\n",
       "    <tr style=\"text-align: right;\">\n",
       "      <th></th>\n",
       "      <th>gameID</th>\n",
       "      <th>teamID</th>\n",
       "      <th>season</th>\n",
       "      <th>goals</th>\n",
       "      <th>shots</th>\n",
       "      <th>shotsOnTarget</th>\n",
       "      <th>fouls</th>\n",
       "      <th>yellowCards</th>\n",
       "      <th>redCards</th>\n",
       "      <th>result</th>\n",
       "    </tr>\n",
       "  </thead>\n",
       "  <tbody>\n",
       "    <tr>\n",
       "      <th>0</th>\n",
       "      <td>81</td>\n",
       "      <td>89</td>\n",
       "      <td>2015</td>\n",
       "      <td>1</td>\n",
       "      <td>9</td>\n",
       "      <td>1</td>\n",
       "      <td>12</td>\n",
       "      <td>2.0</td>\n",
       "      <td>0</td>\n",
       "      <td>W</td>\n",
       "    </tr>\n",
       "    <tr>\n",
       "      <th>1</th>\n",
       "      <td>81</td>\n",
       "      <td>82</td>\n",
       "      <td>2015</td>\n",
       "      <td>0</td>\n",
       "      <td>9</td>\n",
       "      <td>4</td>\n",
       "      <td>12</td>\n",
       "      <td>3.0</td>\n",
       "      <td>0</td>\n",
       "      <td>L</td>\n",
       "    </tr>\n",
       "    <tr>\n",
       "      <th>2</th>\n",
       "      <td>82</td>\n",
       "      <td>73</td>\n",
       "      <td>2015</td>\n",
       "      <td>0</td>\n",
       "      <td>11</td>\n",
       "      <td>2</td>\n",
       "      <td>13</td>\n",
       "      <td>3.0</td>\n",
       "      <td>0</td>\n",
       "      <td>L</td>\n",
       "    </tr>\n",
       "    <tr>\n",
       "      <th>3</th>\n",
       "      <td>82</td>\n",
       "      <td>71</td>\n",
       "      <td>2015</td>\n",
       "      <td>1</td>\n",
       "      <td>7</td>\n",
       "      <td>3</td>\n",
       "      <td>13</td>\n",
       "      <td>4.0</td>\n",
       "      <td>0</td>\n",
       "      <td>W</td>\n",
       "    </tr>\n",
       "    <tr>\n",
       "      <th>4</th>\n",
       "      <td>83</td>\n",
       "      <td>72</td>\n",
       "      <td>2015</td>\n",
       "      <td>2</td>\n",
       "      <td>10</td>\n",
       "      <td>5</td>\n",
       "      <td>7</td>\n",
       "      <td>1.0</td>\n",
       "      <td>0</td>\n",
       "      <td>D</td>\n",
       "    </tr>\n",
       "  </tbody>\n",
       "</table>\n",
       "</div>"
      ],
      "text/plain": [
       "   gameID  teamID  season  goals  shots  shotsOnTarget  fouls  yellowCards  \\\n",
       "0      81      89    2015      1      9              1     12          2.0   \n",
       "1      81      82    2015      0      9              4     12          3.0   \n",
       "2      82      73    2015      0     11              2     13          3.0   \n",
       "3      82      71    2015      1      7              3     13          4.0   \n",
       "4      83      72    2015      2     10              5      7          1.0   \n",
       "\n",
       "   redCards result  \n",
       "0         0      W  \n",
       "1         0      L  \n",
       "2         0      L  \n",
       "3         0      W  \n",
       "4         0      D  "
      ]
     },
     "execution_count": 26,
     "metadata": {},
     "output_type": "execute_result"
    }
   ],
   "source": [
    "teamstats.head()"
   ]
  },
  {
   "cell_type": "code",
   "execution_count": 27,
   "id": "84ad9c8d",
   "metadata": {},
   "outputs": [],
   "source": [
    "#Calling funtion to create new database\n",
    "try:\n",
    "    create_db(\"football\")\n",
    "except psycopg2.Error as e:\n",
    "    print(\"Error: DB creation failed\")\n",
    "    print(e)"
   ]
  },
  {
   "cell_type": "code",
   "execution_count": 28,
   "id": "32bd8196",
   "metadata": {},
   "outputs": [],
   "source": [
    "#Connecting to created DB\n",
    "try:\n",
    "    cur, conn = connect_db(\"football\")\n",
    "except psycopg2.Error as e:\n",
    "    print(\"Error: DB connection failed\")\n",
    "    print(e)"
   ]
  },
  {
   "cell_type": "markdown",
   "id": "1caffb8a",
   "metadata": {},
   "source": [
    "# Creating tables in database using our Data Model"
   ]
  },
  {
   "cell_type": "code",
   "execution_count": 29,
   "id": "bd515413",
   "metadata": {},
   "outputs": [],
   "source": [
    "#Creating leagues table\n",
    "\n",
    "create_table_leagues = \"\"\"CREATE TABLE IF NOT EXISTS leagues(\n",
    "    leagueID INTEGER PRIMARY KEY,\n",
    "    Name VARCHAR(255) NOT NULL,\n",
    "    underStatNotation VARCHAR(255)\n",
    ");\"\"\"\n",
    "\n",
    "cur.execute(create_table_leagues)\n",
    "conn.commit()"
   ]
  },
  {
   "cell_type": "code",
   "execution_count": 30,
   "id": "75d049a9",
   "metadata": {},
   "outputs": [],
   "source": [
    "#Creating players table\n",
    "\n",
    "create_table_players = \"\"\"CREATE TABLE IF NOT EXISTS players(\n",
    "    playerID INTEGER PRIMARY KEY,\n",
    "    Name VARCHAR(255) NOT NULL\n",
    ");\"\"\"\n",
    "\n",
    "cur.execute(create_table_players)\n",
    "conn.commit()"
   ]
  },
  {
   "cell_type": "code",
   "execution_count": 31,
   "id": "dba39b79",
   "metadata": {},
   "outputs": [],
   "source": [
    "#Creating teams table\n",
    "\n",
    "create_table_teams = \"\"\"CREATE TABLE IF NOT EXISTS teams(\n",
    "    teamID INTEGER PRIMARY KEY,\n",
    "    Name VARCHAR(255) NOT NULL\n",
    ");\"\"\"\n",
    "\n",
    "cur.execute(create_table_teams)\n",
    "conn.commit()"
   ]
  },
  {
   "cell_type": "code",
   "execution_count": 32,
   "id": "5eee7c67",
   "metadata": {},
   "outputs": [],
   "source": [
    "#Creating games table\n",
    "\n",
    "create_table_games = \"\"\"CREATE TABLE IF NOT EXISTS games(\n",
    "    gameID INTEGER PRIMARY KEY,\n",
    "    leagueID INTEGER REFERENCES leagues(leagueID),\n",
    "    homeTeamID INTEGER REFERENCES teams(teamID),\n",
    "    awayTeamID INTEGER REFERENCES teams(teamID),\n",
    "    date DATE,\n",
    "    season INTEGER,\n",
    "    homeProbability NUMERIC,\n",
    "    drawProbability NUMERIC,\n",
    "    awayProbability NUMERIC\n",
    ");\"\"\"\n",
    "\n",
    "cur.execute(create_table_games)\n",
    "conn.commit()"
   ]
  },
  {
   "cell_type": "code",
   "execution_count": 33,
   "id": "fc873aa7",
   "metadata": {},
   "outputs": [],
   "source": [
    "#Creating shots table\n",
    "\n",
    "create_table_shots = \"\"\"CREATE TABLE IF NOT EXISTS shots(\n",
    "     gameID INTEGER REFERENCES games(gameID),\n",
    "    shooterID INTEGER REFERENCES players(playerID),\n",
    "    assisterID INTEGER REFERENCES players(playerID),\n",
    "    minute INTEGER,\n",
    "    situation VARCHAR(50),\n",
    "    shotResult VARCHAR(20),\n",
    "    shotType VARCHAR(20)\n",
    ");\"\"\"\n",
    "\n",
    "cur.execute(create_table_shots)\n",
    "conn.commit()"
   ]
  },
  {
   "cell_type": "code",
   "execution_count": 34,
   "id": "735bb512",
   "metadata": {},
   "outputs": [],
   "source": [
    "#Creating teamstats table\n",
    "\n",
    "create_table_teamstats = \"\"\"CREATE TABLE IF NOT EXISTS teamstats(\n",
    "    gameID INTEGER REFERENCES games(gameID),\n",
    "    teamID INTEGER REFERENCES teams(teamID),\n",
    "    season INTEGER,\n",
    "    goals INTEGER,\n",
    "    shots INTEGER,\n",
    "    shotsOnTarget INTEGER,\n",
    "    fouls INTEGER,\n",
    "    yellowCards INTEGER,\n",
    "    redCards INTEGER,\n",
    "    Result VARCHAR(10)\n",
    ");\"\"\"\n",
    "\n",
    "cur.execute(create_table_teamstats)\n",
    "conn.commit()"
   ]
  },
  {
   "cell_type": "markdown",
   "id": "cee5c3f7",
   "metadata": {},
   "source": [
    "# Inserting rows into the tables"
   ]
  },
  {
   "cell_type": "markdown",
   "id": "e7cf4099",
   "metadata": {},
   "source": [
    "We use the executemany() function to insert multiple rows at a time in SQL. It is more efficient then execute() because it reduces the overhead of communication with the database server. "
   ]
  },
  {
   "cell_type": "code",
   "execution_count": 35,
   "id": "ba449389",
   "metadata": {},
   "outputs": [],
   "source": [
    "query = \"INSERT INTO leagues (leagueid, name, understatnotation) VALUES (%s, %s, %s)\" \n",
    "#%s placeholder automatically converts the datatype to match SQL table\n",
    "data = [(row['leagueID'], row['name'], row['understatNotation']) for i , row in leagues.iterrows()]\n",
    "\n",
    "cur.executemany(query, data)\n",
    "conn.commit()"
   ]
  },
  {
   "cell_type": "code",
   "execution_count": 36,
   "id": "908a0f04",
   "metadata": {},
   "outputs": [],
   "source": [
    "query = \"INSERT INTO players (playerid, name) VALUES (%s, %s)\" \n",
    "data = [(row['playerID'], row['name']) for i , row in players.iterrows()]\n",
    "\n",
    "cur.executemany(query, data)\n",
    "conn.commit()"
   ]
  },
  {
   "cell_type": "code",
   "execution_count": 37,
   "id": "c4d2c8c4",
   "metadata": {},
   "outputs": [],
   "source": [
    "query = \"INSERT INTO teams (teamid, name) VALUES (%s, %s)\" \n",
    "data = [(row['teamID'], row['name']) for i , row in teams.iterrows()]\n",
    "\n",
    "cur.executemany(query, data)\n",
    "conn.commit()"
   ]
  },
  {
   "cell_type": "code",
   "execution_count": 38,
   "id": "360a402e",
   "metadata": {},
   "outputs": [
    {
     "data": {
      "text/plain": [
       "Index(['gameID', 'leagueID', 'season', 'date', 'homeTeamID', 'awayTeamID',\n",
       "       'homeProbability', 'drawProbability', 'awayProbability'],\n",
       "      dtype='object')"
      ]
     },
     "execution_count": 38,
     "metadata": {},
     "output_type": "execute_result"
    }
   ],
   "source": [
    "games.columns"
   ]
  },
  {
   "cell_type": "code",
   "execution_count": 39,
   "id": "3489c3e8",
   "metadata": {},
   "outputs": [],
   "source": [
    "query = \"\"\"INSERT INTO games (gameid, leagueid, hometeamid, awayteamid, date, season, \n",
    "homeprobability, drawprobability, awayprobability) VALUES (%s, %s, %s, %s, %s, %s, %s, %s, %s)\"\"\" \n",
    "\n",
    "data = [(row['gameID'], row['leagueID'], row['homeTeamID'], \n",
    "         row['awayTeamID'], row['date'], row['season'], \n",
    "         row['homeProbability'], row['drawProbability'], row['awayProbability']) for i , row in games.iterrows()]\n",
    "\n",
    "cur.executemany(query, data)\n",
    "conn.commit()"
   ]
  },
  {
   "cell_type": "code",
   "execution_count": 40,
   "id": "c82e2bf5",
   "metadata": {},
   "outputs": [
    {
     "data": {
      "text/plain": [
       "Index(['gameID', 'shooterID', 'assisterID', 'minute', 'situation',\n",
       "       'shotResult', 'shotType'],\n",
       "      dtype='object')"
      ]
     },
     "execution_count": 40,
     "metadata": {},
     "output_type": "execute_result"
    }
   ],
   "source": [
    "shots.columns"
   ]
  },
  {
   "cell_type": "code",
   "execution_count": 41,
   "id": "dde05dfd",
   "metadata": {},
   "outputs": [
    {
     "data": {
      "text/plain": [
       "gameID          int64\n",
       "shooterID       int64\n",
       "assisterID    float64\n",
       "minute          int64\n",
       "situation      object\n",
       "shotResult     object\n",
       "shotType       object\n",
       "dtype: object"
      ]
     },
     "execution_count": 41,
     "metadata": {},
     "output_type": "execute_result"
    }
   ],
   "source": [
    "shots.dtypes"
   ]
  },
  {
   "cell_type": "code",
   "execution_count": 42,
   "id": "2168ab19",
   "metadata": {},
   "outputs": [
    {
     "name": "stdout",
     "output_type": "stream",
     "text": [
      "   gameID  shooterID assisterID  minute       situation   shotResult  \\\n",
      "0      81        554       NULL      27  DirectFreekick  BlockedShot   \n",
      "1      81        555      631.0      27        SetPiece  BlockedShot   \n",
      "2      81        554      629.0      35        OpenPlay  BlockedShot   \n",
      "3      81        554       NULL      35        OpenPlay  MissedShots   \n",
      "4      81        555      654.0      40        OpenPlay  BlockedShot   \n",
      "\n",
      "    shotType  \n",
      "0   LeftFoot  \n",
      "1  RightFoot  \n",
      "2   LeftFoot  \n",
      "3   LeftFoot  \n",
      "4  RightFoot  \n",
      "gameID         int64\n",
      "shooterID      int64\n",
      "assisterID    object\n",
      "minute         int64\n",
      "situation     object\n",
      "shotResult    object\n",
      "shotType      object\n",
      "dtype: object\n"
     ]
    }
   ],
   "source": [
    "# convert assisterID from float to int and replace NaN values with NULL\n",
    "shots['assisterID'] = shots['assisterID'].fillna(\"NULL\").astype(object)\n",
    "print(shots.head())\n",
    "print(shots.dtypes)"
   ]
  },
  {
   "cell_type": "code",
   "execution_count": 43,
   "id": "ea5fe818",
   "metadata": {},
   "outputs": [],
   "source": [
    "#Replacing NULL with None to fill NULL value in SQL\n",
    "shots = shots.replace(\"NULL\",None)"
   ]
  },
  {
   "cell_type": "code",
   "execution_count": 44,
   "id": "c4a1e39e",
   "metadata": {},
   "outputs": [
    {
     "data": {
      "text/html": [
       "<div>\n",
       "<style scoped>\n",
       "    .dataframe tbody tr th:only-of-type {\n",
       "        vertical-align: middle;\n",
       "    }\n",
       "\n",
       "    .dataframe tbody tr th {\n",
       "        vertical-align: top;\n",
       "    }\n",
       "\n",
       "    .dataframe thead th {\n",
       "        text-align: right;\n",
       "    }\n",
       "</style>\n",
       "<table border=\"1\" class=\"dataframe\">\n",
       "  <thead>\n",
       "    <tr style=\"text-align: right;\">\n",
       "      <th></th>\n",
       "      <th>gameID</th>\n",
       "      <th>shooterID</th>\n",
       "      <th>assisterID</th>\n",
       "      <th>minute</th>\n",
       "      <th>situation</th>\n",
       "      <th>shotResult</th>\n",
       "      <th>shotType</th>\n",
       "    </tr>\n",
       "  </thead>\n",
       "  <tbody>\n",
       "    <tr>\n",
       "      <th>0</th>\n",
       "      <td>81</td>\n",
       "      <td>554</td>\n",
       "      <td>None</td>\n",
       "      <td>27</td>\n",
       "      <td>DirectFreekick</td>\n",
       "      <td>BlockedShot</td>\n",
       "      <td>LeftFoot</td>\n",
       "    </tr>\n",
       "    <tr>\n",
       "      <th>1</th>\n",
       "      <td>81</td>\n",
       "      <td>555</td>\n",
       "      <td>631.0</td>\n",
       "      <td>27</td>\n",
       "      <td>SetPiece</td>\n",
       "      <td>BlockedShot</td>\n",
       "      <td>RightFoot</td>\n",
       "    </tr>\n",
       "    <tr>\n",
       "      <th>2</th>\n",
       "      <td>81</td>\n",
       "      <td>554</td>\n",
       "      <td>629.0</td>\n",
       "      <td>35</td>\n",
       "      <td>OpenPlay</td>\n",
       "      <td>BlockedShot</td>\n",
       "      <td>LeftFoot</td>\n",
       "    </tr>\n",
       "    <tr>\n",
       "      <th>3</th>\n",
       "      <td>81</td>\n",
       "      <td>554</td>\n",
       "      <td>None</td>\n",
       "      <td>35</td>\n",
       "      <td>OpenPlay</td>\n",
       "      <td>MissedShots</td>\n",
       "      <td>LeftFoot</td>\n",
       "    </tr>\n",
       "    <tr>\n",
       "      <th>4</th>\n",
       "      <td>81</td>\n",
       "      <td>555</td>\n",
       "      <td>654.0</td>\n",
       "      <td>40</td>\n",
       "      <td>OpenPlay</td>\n",
       "      <td>BlockedShot</td>\n",
       "      <td>RightFoot</td>\n",
       "    </tr>\n",
       "  </tbody>\n",
       "</table>\n",
       "</div>"
      ],
      "text/plain": [
       "   gameID  shooterID assisterID  minute       situation   shotResult  \\\n",
       "0      81        554       None      27  DirectFreekick  BlockedShot   \n",
       "1      81        555      631.0      27        SetPiece  BlockedShot   \n",
       "2      81        554      629.0      35        OpenPlay  BlockedShot   \n",
       "3      81        554       None      35        OpenPlay  MissedShots   \n",
       "4      81        555      654.0      40        OpenPlay  BlockedShot   \n",
       "\n",
       "    shotType  \n",
       "0   LeftFoot  \n",
       "1  RightFoot  \n",
       "2   LeftFoot  \n",
       "3   LeftFoot  \n",
       "4  RightFoot  "
      ]
     },
     "execution_count": 44,
     "metadata": {},
     "output_type": "execute_result"
    }
   ],
   "source": [
    "shots.head()"
   ]
  },
  {
   "cell_type": "code",
   "execution_count": 45,
   "id": "ea30b339",
   "metadata": {
    "scrolled": true
   },
   "outputs": [],
   "source": [
    "query = \"\"\"INSERT INTO shots (gameid, shooterid, assisterid, minute, situation, shotresult, shottype)\n",
    "VALUES (%s, %s, %s, %s, %s, %s, %s)\"\"\" \n",
    "\n",
    "data = [(row['gameID'], row['shooterID'], row['assisterID'], \n",
    "         row['minute'], row['situation'], row['shotResult'], \n",
    "         row['shotType']) for i , row in shots.iterrows()]\n",
    "\n",
    "cur.executemany(query, data)\n",
    "conn.commit()"
   ]
  },
  {
   "cell_type": "code",
   "execution_count": 46,
   "id": "eba3174c",
   "metadata": {},
   "outputs": [
    {
     "data": {
      "text/plain": [
       "Index(['gameID', 'teamID', 'season', 'goals', 'shots', 'shotsOnTarget',\n",
       "       'fouls', 'yellowCards', 'redCards', 'result'],\n",
       "      dtype='object')"
      ]
     },
     "execution_count": 46,
     "metadata": {},
     "output_type": "execute_result"
    }
   ],
   "source": [
    "teamstats.columns"
   ]
  },
  {
   "cell_type": "code",
   "execution_count": 47,
   "id": "32811294",
   "metadata": {},
   "outputs": [
    {
     "data": {
      "text/plain": [
       "gameID             int64\n",
       "teamID             int64\n",
       "season             int64\n",
       "goals              int64\n",
       "shots              int64\n",
       "shotsOnTarget      int64\n",
       "fouls              int64\n",
       "yellowCards      float64\n",
       "redCards           int64\n",
       "result            object\n",
       "dtype: object"
      ]
     },
     "execution_count": 47,
     "metadata": {},
     "output_type": "execute_result"
    }
   ],
   "source": [
    "teamstats.dtypes"
   ]
  },
  {
   "cell_type": "code",
   "execution_count": 48,
   "id": "41e91382",
   "metadata": {},
   "outputs": [
    {
     "data": {
      "text/html": [
       "<div>\n",
       "<style scoped>\n",
       "    .dataframe tbody tr th:only-of-type {\n",
       "        vertical-align: middle;\n",
       "    }\n",
       "\n",
       "    .dataframe tbody tr th {\n",
       "        vertical-align: top;\n",
       "    }\n",
       "\n",
       "    .dataframe thead th {\n",
       "        text-align: right;\n",
       "    }\n",
       "</style>\n",
       "<table border=\"1\" class=\"dataframe\">\n",
       "  <thead>\n",
       "    <tr style=\"text-align: right;\">\n",
       "      <th></th>\n",
       "      <th>gameID</th>\n",
       "      <th>teamID</th>\n",
       "      <th>season</th>\n",
       "      <th>goals</th>\n",
       "      <th>shots</th>\n",
       "      <th>shotsOnTarget</th>\n",
       "      <th>fouls</th>\n",
       "      <th>yellowCards</th>\n",
       "      <th>redCards</th>\n",
       "      <th>result</th>\n",
       "    </tr>\n",
       "  </thead>\n",
       "  <tbody>\n",
       "    <tr>\n",
       "      <th>0</th>\n",
       "      <td>81</td>\n",
       "      <td>89</td>\n",
       "      <td>2015</td>\n",
       "      <td>1</td>\n",
       "      <td>9</td>\n",
       "      <td>1</td>\n",
       "      <td>12</td>\n",
       "      <td>2.0</td>\n",
       "      <td>0</td>\n",
       "      <td>W</td>\n",
       "    </tr>\n",
       "    <tr>\n",
       "      <th>1</th>\n",
       "      <td>81</td>\n",
       "      <td>82</td>\n",
       "      <td>2015</td>\n",
       "      <td>0</td>\n",
       "      <td>9</td>\n",
       "      <td>4</td>\n",
       "      <td>12</td>\n",
       "      <td>3.0</td>\n",
       "      <td>0</td>\n",
       "      <td>L</td>\n",
       "    </tr>\n",
       "    <tr>\n",
       "      <th>2</th>\n",
       "      <td>82</td>\n",
       "      <td>73</td>\n",
       "      <td>2015</td>\n",
       "      <td>0</td>\n",
       "      <td>11</td>\n",
       "      <td>2</td>\n",
       "      <td>13</td>\n",
       "      <td>3.0</td>\n",
       "      <td>0</td>\n",
       "      <td>L</td>\n",
       "    </tr>\n",
       "    <tr>\n",
       "      <th>3</th>\n",
       "      <td>82</td>\n",
       "      <td>71</td>\n",
       "      <td>2015</td>\n",
       "      <td>1</td>\n",
       "      <td>7</td>\n",
       "      <td>3</td>\n",
       "      <td>13</td>\n",
       "      <td>4.0</td>\n",
       "      <td>0</td>\n",
       "      <td>W</td>\n",
       "    </tr>\n",
       "    <tr>\n",
       "      <th>4</th>\n",
       "      <td>83</td>\n",
       "      <td>72</td>\n",
       "      <td>2015</td>\n",
       "      <td>2</td>\n",
       "      <td>10</td>\n",
       "      <td>5</td>\n",
       "      <td>7</td>\n",
       "      <td>1.0</td>\n",
       "      <td>0</td>\n",
       "      <td>D</td>\n",
       "    </tr>\n",
       "  </tbody>\n",
       "</table>\n",
       "</div>"
      ],
      "text/plain": [
       "   gameID  teamID  season  goals  shots  shotsOnTarget  fouls yellowCards  \\\n",
       "0      81      89    2015      1      9              1     12         2.0   \n",
       "1      81      82    2015      0      9              4     12         3.0   \n",
       "2      82      73    2015      0     11              2     13         3.0   \n",
       "3      82      71    2015      1      7              3     13         4.0   \n",
       "4      83      72    2015      2     10              5      7         1.0   \n",
       "\n",
       "   redCards result  \n",
       "0         0      W  \n",
       "1         0      L  \n",
       "2         0      L  \n",
       "3         0      W  \n",
       "4         0      D  "
      ]
     },
     "execution_count": 48,
     "metadata": {},
     "output_type": "execute_result"
    }
   ],
   "source": [
    "#Yellowcards has NAs\n",
    "teamstats['yellowCards'] = teamstats['yellowCards'].fillna(\"NULL\").astype(object)\n",
    "teamstats = teamstats.replace(\"NULL\",None)\n",
    "teamstats.head()"
   ]
  },
  {
   "cell_type": "code",
   "execution_count": 49,
   "id": "9dc9eff7",
   "metadata": {},
   "outputs": [],
   "source": [
    "query = \"\"\"INSERT INTO teamstats (gameid, teamid, season, goals, shots, shotsontarget, \n",
    "fouls, yellowcards, redcards, result)\n",
    "VALUES (%s, %s, %s, %s, %s, %s, %s, %s, %s, %s)\"\"\" \n",
    "\n",
    "data = [(row['gameID'], row['teamID'], row['season'], \n",
    "         row['goals'], row['shots'], row['shotsOnTarget'], \n",
    "         row['fouls'], row['yellowCards'], row['redCards'], row['result']) for i , row in teamstats.iterrows()]\n",
    "\n",
    "cur.executemany(query, data)\n",
    "conn.commit()"
   ]
  },
  {
   "cell_type": "code",
   "execution_count": 50,
   "id": "6acb5650",
   "metadata": {},
   "outputs": [],
   "source": [
    "#CLose connection after inserting all rows\n",
    "conn.close()"
   ]
  }
 ],
 "metadata": {
  "kernelspec": {
   "display_name": "Python 3 (ipykernel)",
   "language": "python",
   "name": "python3"
  },
  "language_info": {
   "codemirror_mode": {
    "name": "ipython",
    "version": 3
   },
   "file_extension": ".py",
   "mimetype": "text/x-python",
   "name": "python",
   "nbconvert_exporter": "python",
   "pygments_lexer": "ipython3",
   "version": "3.11.2"
  }
 },
 "nbformat": 4,
 "nbformat_minor": 5
}

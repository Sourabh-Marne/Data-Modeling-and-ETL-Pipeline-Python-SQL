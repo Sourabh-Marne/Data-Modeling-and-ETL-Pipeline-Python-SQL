{
 "cells": [
  {
   "cell_type": "markdown",
   "id": "51fb329a",
   "metadata": {},
   "source": [
    "# Creating Table with Postgres and downloading required packages"
   ]
  },
  {
   "cell_type": "code",
   "execution_count": null,
   "id": "ad929c09",
   "metadata": {},
   "outputs": [],
   "source": [
    "!pip install psycopg2"
   ]
  },
  {
   "cell_type": "code",
   "execution_count": 3,
   "id": "7e4ba641",
   "metadata": {},
   "outputs": [],
   "source": [
    "import psycopg2"
   ]
  },
  {
   "cell_type": "code",
   "execution_count": 10,
   "id": "8569fae6",
   "metadata": {},
   "outputs": [],
   "source": [
    "try:\n",
    "    conn = psycopg2.connect(\"host=localhost dbname=postgres user=postgres password=root\")\n",
    "except psycopg2.Error as e:\n",
    "    print(\"Error: DB Connection failed\")\n",
    "    print(e)"
   ]
  },
  {
   "cell_type": "code",
   "execution_count": 11,
   "id": "89fcac23",
   "metadata": {},
   "outputs": [
    {
     "data": {
      "text/plain": [
       "<connection object at 0x0000028DF1BD7DE0; dsn: 'user=postgres password=xxx dbname=postgres host=localhost', closed: 0>"
      ]
     },
     "execution_count": 11,
     "metadata": {},
     "output_type": "execute_result"
    }
   ],
   "source": [
    "conn"
   ]
  },
  {
   "cell_type": "code",
   "execution_count": 13,
   "id": "1f68dc8c",
   "metadata": {},
   "outputs": [],
   "source": [
    "#Create cursor to perform queries on the DB\n",
    "try:\n",
    "    cur =conn.cursor()\n",
    "except psycopg2.Error as e:\n",
    "    print(\"Error: Could not create Cursor\")\n",
    "    print(e)"
   ]
  },
  {
   "cell_type": "code",
   "execution_count": 14,
   "id": "50317e1a",
   "metadata": {},
   "outputs": [
    {
     "data": {
      "text/plain": [
       "<cursor object at 0x0000028DF1CCC120; closed: 0>"
      ]
     },
     "execution_count": 14,
     "metadata": {},
     "output_type": "execute_result"
    }
   ],
   "source": [
    "cur"
   ]
  },
  {
   "cell_type": "code",
   "execution_count": 15,
   "id": "1bc77a92",
   "metadata": {},
   "outputs": [],
   "source": [
    "#set autocommit true, so we dont need to call commit() to make changes to db\n",
    "conn.set_session(autocommit=True)"
   ]
  },
  {
   "cell_type": "code",
   "execution_count": 16,
   "id": "7cf480d1",
   "metadata": {},
   "outputs": [
    {
     "data": {
      "text/plain": [
       "<connection object at 0x0000028DF1BD7DE0; dsn: 'user=postgres password=xxx dbname=postgres host=localhost', closed: 0>"
      ]
     },
     "execution_count": 16,
     "metadata": {},
     "output_type": "execute_result"
    }
   ],
   "source": [
    "conn"
   ]
  },
  {
   "cell_type": "code",
   "execution_count": 17,
   "id": "7f0e1de1",
   "metadata": {},
   "outputs": [],
   "source": [
    "#Executing queries\n",
    "try:\n",
    "    cur.execute(\"Create database TestDB1\")\n",
    "except psycopg2.Error as e:\n",
    "    print(\"Error: Query failed\")\n",
    "    print(e)"
   ]
  },
  {
   "cell_type": "code",
   "execution_count": 18,
   "id": "2cc8a37d",
   "metadata": {},
   "outputs": [],
   "source": [
    "#Close connection to postgres and connect to new DB testdb1\n",
    "\n",
    "#Close conn\n",
    "try:\n",
    "    conn.close()\n",
    "except psycopg2.Error as e:\n",
    "    print(e)"
   ]
  },
  {
   "cell_type": "code",
   "execution_count": 20,
   "id": "5aed89ce",
   "metadata": {},
   "outputs": [],
   "source": [
    "#new object for Testdb1\n",
    "try:\n",
    "    conn = psycopg2.connect(\"host=localhost dbname=testdb1 user=postgres password=root\")\n",
    "except psycopg2.Error as e:\n",
    "    print(\"Error: DB Connection failed\")\n",
    "    print(e)\n",
    "\n",
    "conn.set_session(autocommit=True)"
   ]
  },
  {
   "cell_type": "code",
   "execution_count": 23,
   "id": "951200b5",
   "metadata": {},
   "outputs": [],
   "source": [
    "try:\n",
    "    cur =conn.cursor()\n",
    "except psycopg2.Error as e:\n",
    "    print(\"Error: Could not create Cursor\")\n",
    "    print(e)"
   ]
  },
  {
   "cell_type": "code",
   "execution_count": 24,
   "id": "84d0addc",
   "metadata": {},
   "outputs": [],
   "source": [
    "#Create table\n",
    "try:\n",
    "    cur.execute(\"\"\"CREATE TABLE employees (\n",
    "    id SERIAL PRIMARY KEY,\n",
    "    first_name VARCHAR(50) NOT NULL,\n",
    "    last_name VARCHAR(50) NOT NULL,\n",
    "    hire_date DATE NOT NULL,\n",
    "    salary NUMERIC(8, 2) NOT NULL\n",
    ");\"\"\")\n",
    "except psycopg2.Error as e:\n",
    "    print(\"Error: Query failed\")\n",
    "    print(e)"
   ]
  },
  {
   "cell_type": "code",
   "execution_count": 25,
   "id": "6248addd",
   "metadata": {},
   "outputs": [],
   "source": [
    "#Insert data\n",
    "try:\n",
    "    cur.execute(\"\"\"INSERT INTO employees (first_name, last_name, hire_date, salary)\n",
    "VALUES \n",
    "  ('John', 'Doe', '2021-01-01', 50000.00),\n",
    "  ('Jane', 'Smith', '2020-03-15', 60000.00),\n",
    "  ('Bob', 'Johnson', '2019-06-30', 75000.00);\"\"\")\n",
    "except psycopg2.Error as e:\n",
    "    print(\"Error: Query failed\")\n",
    "    print(e)"
   ]
  },
  {
   "cell_type": "code",
   "execution_count": 39,
   "id": "cd47a038",
   "metadata": {},
   "outputs": [],
   "source": [
    "#Insert data\n",
    "try:\n",
    "    cur.execute(\"\"\"Select * from employees;\"\"\")\n",
    "except psycopg2.Error as e:\n",
    "    print(\"Error: Query failed\")\n",
    "    print(e)"
   ]
  },
  {
   "cell_type": "code",
   "execution_count": 40,
   "id": "6c99623e",
   "metadata": {},
   "outputs": [
    {
     "name": "stdout",
     "output_type": "stream",
     "text": [
      "(1, 'John', 'Doe', datetime.date(2021, 1, 1), Decimal('50000.00'))\n"
     ]
    }
   ],
   "source": [
    "row = cur.fetchone()\n",
    "# while row:\n",
    "#     print(row)\n",
    "#     row = cur.fetchone()\n",
    "print(row)"
   ]
  },
  {
   "cell_type": "code",
   "execution_count": null,
   "id": "053219ae",
   "metadata": {},
   "outputs": [],
   "source": []
  }
 ],
 "metadata": {
  "kernelspec": {
   "display_name": "Python 3 (ipykernel)",
   "language": "python",
   "name": "python3"
  },
  "language_info": {
   "codemirror_mode": {
    "name": "ipython",
    "version": 3
   },
   "file_extension": ".py",
   "mimetype": "text/x-python",
   "name": "python",
   "nbconvert_exporter": "python",
   "pygments_lexer": "ipython3",
   "version": "3.11.2"
  }
 },
 "nbformat": 4,
 "nbformat_minor": 5
}
